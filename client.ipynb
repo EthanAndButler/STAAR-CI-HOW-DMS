{
 "cells": [
  {
   "cell_type": "markdown",
   "id": "014cf020",
   "metadata": {},
   "source": [
    "# Send Data Packet"
   ]
  },
  {
   "cell_type": "code",
   "execution_count": 3,
   "id": "e560b6b4",
   "metadata": {
    "scrolled": true
   },
   "outputs": [],
   "source": [
    "# Send one message\n",
    "import socket\n",
    "import time\n",
    "\n",
    "\n",
    "HOST = \"192.168.0.1\"\n",
    "PORT = 65432\n",
    "\n",
    "client_socket = socket.socket(socket.AF_INET, socket.SOCK_STREAM)\n",
    "client_socket.connect((HOST, PORT))\n",
    "\n",
    "# send a message to the server\n",
    "message = '1'\n",
    "client_socket.send(message.encode())\n",
    "\n",
    "client_socket.close()"
   ]
  },
  {
   "cell_type": "code",
   "execution_count": 33,
   "id": "e2377567",
   "metadata": {
    "scrolled": true
   },
   "outputs": [],
   "source": [
    "# Send ten messages\n",
    "\n",
    "import socket\n",
    "import time\n",
    "\n",
    "\n",
    "HOST = \"192.168.0.1\"\n",
    "PORT = 65432\n",
    "\n",
    "array = []\n",
    "\n",
    "# send a message to the server\n",
    "for i in range(100):\n",
    "    array += [f\"{i}\"]\n",
    "    client_socket = socket.socket(socket.AF_INET, socket.SOCK_STREAM)\n",
    "    client_socket.connect((HOST, PORT))\n",
    "    message = \",\".join(array)\n",
    "#     print(message)\n",
    "    client_socket.send(message.encode())\n",
    "    time.sleep(0.001)\n",
    "    client_socket.close()"
   ]
  },
  {
   "cell_type": "code",
   "execution_count": null,
   "id": "d0588012",
   "metadata": {},
   "outputs": [],
   "source": []
  }
 ],
 "metadata": {
  "kernelspec": {
   "display_name": "Python 3 (ipykernel)",
   "language": "python",
   "name": "python3"
  },
  "language_info": {
   "codemirror_mode": {
    "name": "ipython",
    "version": 3
   },
   "file_extension": ".py",
   "mimetype": "text/x-python",
   "name": "python",
   "nbconvert_exporter": "python",
   "pygments_lexer": "ipython3",
   "version": "3.11.4"
  },
  "toc": {
   "base_numbering": 1,
   "nav_menu": {},
   "number_sections": true,
   "sideBar": true,
   "skip_h1_title": false,
   "title_cell": "Table of Contents",
   "title_sidebar": "Contents",
   "toc_cell": false,
   "toc_position": {},
   "toc_section_display": true,
   "toc_window_display": false
  }
 },
 "nbformat": 4,
 "nbformat_minor": 5
}
