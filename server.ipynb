{
 "cells": [
  {
   "cell_type": "markdown",
   "id": "a19eb528",
   "metadata": {},
   "source": [
    "# Send a single data packet"
   ]
  },
  {
   "cell_type": "code",
   "execution_count": 14,
   "id": "a8227b4e",
   "metadata": {
    "ExecuteTime": {
     "end_time": "2023-04-06T21:18:26.272950Z",
     "start_time": "2023-04-06T21:17:47.381235Z"
    }
   },
   "outputs": [
    {
     "ename": "OSError",
     "evalue": "[WinError 10049] The requested address is not valid in its context",
     "output_type": "error",
     "traceback": [
      "\u001b[1;31m---------------------------------------------------------------------------\u001b[0m",
      "\u001b[1;31mOSError\u001b[0m                                   Traceback (most recent call last)",
      "Cell \u001b[1;32mIn[14], line 6\u001b[0m\n\u001b[0;32m      4\u001b[0m server_socket \u001b[38;5;241m=\u001b[39m socket\u001b[38;5;241m.\u001b[39msocket(socket\u001b[38;5;241m.\u001b[39mAF_INET, socket\u001b[38;5;241m.\u001b[39mSOCK_STREAM)\n\u001b[0;32m      5\u001b[0m \u001b[38;5;66;03m# server_socket.bind(('localhost', 5000)) # choose any port number you like\u001b[39;00m\n\u001b[1;32m----> 6\u001b[0m server_socket\u001b[38;5;241m.\u001b[39mbind((\u001b[38;5;124m'\u001b[39m\u001b[38;5;124m192.168.0.240\u001b[39m\u001b[38;5;124m'\u001b[39m, \u001b[38;5;241m5000\u001b[39m)) \u001b[38;5;66;03m# choose any port number you like\u001b[39;00m\n\u001b[0;32m      7\u001b[0m server_socket\u001b[38;5;241m.\u001b[39mlisten(\u001b[38;5;241m1\u001b[39m) \u001b[38;5;66;03m# listen for one client connection\u001b[39;00m\n\u001b[0;32m      9\u001b[0m \u001b[38;5;28mprint\u001b[39m(\u001b[38;5;124m'\u001b[39m\u001b[38;5;124mWaiting for client connection...\u001b[39m\u001b[38;5;124m'\u001b[39m)\n",
      "\u001b[1;31mOSError\u001b[0m: [WinError 10049] The requested address is not valid in its context"
     ]
    }
   ],
   "source": [
    "import socket\n",
    "\n",
    "# set up the server socket\n",
    "server_socket = socket.socket(socket.AF_INET, socket.SOCK_STREAM)\n",
    "# server_socket.bind(('localhost', 5000)) # choose any port number you like\n",
    "server_socket.bind(('192.168.0.240', 5000)) # choose any port number you like\n",
    "server_socket.listen(1) # listen for one client connection\n",
    "\n",
    "print('Waiting for client connection...')\n",
    "\n",
    "# accept a client connection\n",
    "client_socket, client_address = server_socket.accept()\n",
    "print('Connected by', client_address)\n",
    "\n",
    "# receive data from the client\n",
    "data = client_socket.recv(1024) # receive up to 1024 bytes\n",
    "print('Received message:', data.decode())\n",
    "\n",
    "# close the sockets\n",
    "client_socket.close()\n",
    "server_socket.close()"
   ]
  },
  {
   "cell_type": "markdown",
   "id": "4efd269d",
   "metadata": {},
   "source": [
    "# Stream"
   ]
  },
  {
   "cell_type": "code",
   "execution_count": 15,
   "id": "6ad100cb",
   "metadata": {
    "ExecuteTime": {
     "start_time": "2023-07-06T18:07:27.437Z"
    }
   },
   "outputs": [
    {
     "ename": "OSError",
     "evalue": "[WinError 10049] The requested address is not valid in its context",
     "output_type": "error",
     "traceback": [
      "\u001b[1;31m---------------------------------------------------------------------------\u001b[0m",
      "\u001b[1;31mOSError\u001b[0m                                   Traceback (most recent call last)",
      "Cell \u001b[1;32mIn[15], line 8\u001b[0m\n\u001b[0;32m      6\u001b[0m HOST \u001b[38;5;241m=\u001b[39m \u001b[38;5;124m\"\u001b[39m\u001b[38;5;124m192.168.0.3\u001b[39m\u001b[38;5;124m\"\u001b[39m\n\u001b[0;32m      7\u001b[0m PORT \u001b[38;5;241m=\u001b[39m \u001b[38;5;241m65432\u001b[39m\n\u001b[1;32m----> 8\u001b[0m server_socket\u001b[38;5;241m.\u001b[39mbind((HOST, PORT)) \u001b[38;5;66;03m# choose any port number you like\u001b[39;00m\n\u001b[0;32m      9\u001b[0m server_socket\u001b[38;5;241m.\u001b[39mlisten(\u001b[38;5;241m1\u001b[39m) \u001b[38;5;66;03m# listen for one client connection\u001b[39;00m\n\u001b[0;32m     11\u001b[0m \u001b[38;5;28mprint\u001b[39m(\u001b[38;5;124m'\u001b[39m\u001b[38;5;124mWaiting for client connection...\u001b[39m\u001b[38;5;124m'\u001b[39m)\n",
      "\u001b[1;31mOSError\u001b[0m: [WinError 10049] The requested address is not valid in its context"
     ]
    }
   ],
   "source": [
    "import socket\n",
    "import time\n",
    "\n",
    "# set up the server socket\n",
    "server_socket = socket.socket(socket.AF_INET, socket.SOCK_STREAM)\n",
    "HOST = \"192.168.0.3\"\n",
    "PORT = 65432\n",
    "server_socket.bind((HOST, PORT)) # choose any port number you like\n",
    "server_socket.listen(1) # listen for one client connection\n",
    "\n",
    "print('Waiting for client connection...')\n",
    "\n",
    "# accept a client connection\n",
    "client_socket, client_address = server_socket.accept()\n",
    "print('Connected by', client_address)\n",
    "\n",
    "while True:\n",
    "    # get the current date and time\n",
    "    data = client_socket.recv(1024)\n",
    "    if data:\n",
    "        print('Received message:', data.decode())\n",
    "\n",
    "    # send the data to the client\n",
    "    # client_socket.sendall(data)\n",
    "\n",
    "    # wait for one second\n",
    "    time.sleep(1)\n",
    "\n",
    "# close the sockets\n",
    "client_socket.close()\n",
    "server_socket.close()"
   ]
  },
  {
   "cell_type": "code",
   "execution_count": 2,
   "id": "b47bae5a",
   "metadata": {},
   "outputs": [
    {
     "name": "stdout",
     "output_type": "stream",
     "text": [
      "\n",
      "Pinging 192.168.0.1 with 32 bytes of data:\n",
      "Reply from 192.168.0.1: bytes=32 time<1ms TTL=64\n",
      "Reply from 192.168.0.1: bytes=32 time<1ms TTL=64\n",
      "Reply from 192.168.0.1: bytes=32 time<1ms TTL=64\n",
      "Reply from 192.168.0.1: bytes=32 time<1ms TTL=64\n",
      "\n",
      "Ping statistics for 192.168.0.1:\n",
      "    Packets: Sent = 4, Received = 4, Lost = 0 (0% loss),\n",
      "Approximate round trip times in milli-seconds:\n",
      "    Minimum = 0ms, Maximum = 0ms, Average = 0ms\n"
     ]
    }
   ],
   "source": [
    "\n",
    "!ping 192.168.0.1\n",
    "#tcpping(192.168.0.1,65432)\n",
    "#!ping 192.168.0.2\n",
    "#!ping 192.168.0.3\n",
    "#!ping 127.0.0.1"
   ]
  },
  {
   "cell_type": "markdown",
   "id": "b595524e",
   "metadata": {},
   "source": [
    "# Echo server"
   ]
  },
  {
   "cell_type": "code",
   "execution_count": null,
   "id": "d628fba4",
   "metadata": {},
   "outputs": [],
   "source": [
    "# Win+R\n",
    "# firewall.cpl\n",
    "# Advanced settings\n",
    "# Inbound and Outbound rules\n",
    "# Enable \"file sharing ... (IPv4 -- ICMP..)\""
   ]
  },
  {
   "cell_type": "code",
   "execution_count": 13,
   "id": "8eb74a48",
   "metadata": {
    "ExecuteTime": {
     "end_time": "2023-08-03T21:18:58.794949Z",
     "start_time": "2023-08-03T21:16:33.776742Z"
    }
   },
   "outputs": [
    {
     "ename": "OSError",
     "evalue": "[WinError 10049] The requested address is not valid in its context",
     "output_type": "error",
     "traceback": [
      "\u001b[1;31m---------------------------------------------------------------------------\u001b[0m",
      "\u001b[1;31mOSError\u001b[0m                                   Traceback (most recent call last)",
      "Cell \u001b[1;32mIn[13], line 18\u001b[0m\n\u001b[0;32m     16\u001b[0m \u001b[38;5;66;03m# set up the server socket\u001b[39;00m\n\u001b[0;32m     17\u001b[0m \u001b[38;5;28;01mwith\u001b[39;00m socket\u001b[38;5;241m.\u001b[39msocket(socket\u001b[38;5;241m.\u001b[39mAF_INET, socket\u001b[38;5;241m.\u001b[39mSOCK_STREAM) \u001b[38;5;28;01mas\u001b[39;00m s:\n\u001b[1;32m---> 18\u001b[0m     s\u001b[38;5;241m.\u001b[39mbind((\u001b[38;5;124m'\u001b[39m\u001b[38;5;124m192.168.0.240\u001b[39m\u001b[38;5;124m'\u001b[39m, \u001b[38;5;241m65432\u001b[39m)) \u001b[38;5;66;03m# choose any port number you like\u001b[39;00m\n\u001b[0;32m     19\u001b[0m     s\u001b[38;5;241m.\u001b[39mlisten() \u001b[38;5;66;03m# listen for one client connection\u001b[39;00m\n\u001b[0;32m     21\u001b[0m     \u001b[38;5;28;01mwhile\u001b[39;00m counter \u001b[38;5;241m<\u001b[39m \u001b[38;5;241m1000\u001b[39m:\n",
      "\u001b[1;31mOSError\u001b[0m: [WinError 10049] The requested address is not valid in its context"
     ]
    }
   ],
   "source": [
    "import socket\n",
    "import time\n",
    "import csv\n",
    "\n",
    "# HOST = '192.168.0.240'\n",
    "HOST = '192.168.0.240'\n",
    "# HOST = \"0.0.0.0\"\n",
    "PORT = 65432\n",
    "\n",
    "counter = 0\n",
    "\n",
    "csv_file_path = r\"D:/CI-DMS/Arduino/WiFi Network/output/output.csv\"\n",
    "with open(csv_file_path, mode='w', newline='') as csv_file:\n",
    "    csv_writer = csv.writer(csv_file)\n",
    "\n",
    "# set up the server socket\n",
    "with socket.socket(socket.AF_INET, socket.SOCK_STREAM) as s:\n",
    "    s.bind(('192.168.0.240', 65432)) # choose any port number you like\n",
    "    s.listen() # listen for one client connection\n",
    "\n",
    "    while counter < 1000:\n",
    "        conn, addr = s.accept()\n",
    "\n",
    "        with conn:\n",
    "            # print(f\"Connected by {addr}\")\n",
    "            while True:\n",
    "                # get the current date and time\n",
    "                data = conn.recv(1024)\n",
    "                if data:\n",
    "                    counter += 1\n",
    "                    decoded_data = data.decode()\n",
    "                    print(decoded_data)\n",
    "                    \n",
    "                    csv_writer.writerow([time.strftime(\"%Y-%m-%d %H:%M:%S\"), decoded_data])\n",
    "                    message = b\"Message received\"\n",
    "                    # conn.sendall(message)\n",
    "                    # conn.close()\n",
    "                    break\n",
    "                # wait for one second\n",
    "        time.sleep(1)"
   ]
  },
  {
   "cell_type": "code",
   "execution_count": 37,
   "id": "6248353d",
   "metadata": {},
   "outputs": [],
   "source": [
    "#import socket\n",
    "#import csv\n",
    "#import pandas as pd\n",
    "#import threading\n",
    "#import time\n",
    "\n",
    "# Function to process data and save to CSV\n",
    "#def process_and_save(data):\n",
    "#    processed_data = data.decode('')\n",
    "#    with open('sensor_data.csv', 'a', newline='') as csvfile:\n",
    "#        csv_writer = csv.writer(csvfile)\n",
    "#        csv_writer.writerow([processed_data])\n",
    "\n",
    "# Server function to handle incoming data\n",
    "#def server_function():\n",
    "#    server_socket = socket.socket(socket.AF_INET, socket.SOCK_STREAM)\n",
    "#    server_address = ('192.168.0.99', 65432)\n",
    "#    server_socket.bind(server_address)\n",
    "#    server_socket.listen(1)\n",
    "#    print('Waiting for a connection...')\n",
    "# \n",
    "#     connection, client_address = server_socket.accept()\n",
    "#     print('Connected to', client_address)\n",
    "# \n",
    "#     while True:\n",
    "#         data = connection.recv(1024)\n",
    "#         if not data:\n",
    "#             break\n",
    "#         process_and_save(data)\n",
    "\n",
    "\n",
    "# Function to display real-time updates in the Jupyter Notebook\n",
    "# def display_realtime():\n",
    "#     while True:\n",
    "#         df = pd.read_csv('sensor_data.csv')\n",
    "#         display(df)\n",
    "#         time.sleep(1)\n",
    "\n",
    "# Start server and client threads\n",
    "# server_thread = threading.Thread(target=server_function)\n",
    "# client_thread = threading.Thread(target=client_function)\n",
    "# display_thread = threading.Thread(target=display_realtime)\n",
    "\n",
    "# server_thread.start()\n",
    "# client_thread.start()\n",
    "#display_thread.start()\n",
    "\n"
   ]
  },
  {
   "cell_type": "code",
   "execution_count": 3,
   "id": "fba1d232",
   "metadata": {},
   "outputs": [
    {
     "name": "stdout",
     "output_type": "stream",
     "text": [
      "0\n",
      "2\n",
      "0\n",
      "2\n",
      "3\n",
      "2\n"
     ]
    },
    {
     "ename": "KeyboardInterrupt",
     "evalue": "",
     "output_type": "error",
     "traceback": [
      "\u001b[1;31m---------------------------------------------------------------------------\u001b[0m",
      "\u001b[1;31mKeyboardInterrupt\u001b[0m                         Traceback (most recent call last)",
      "Cell \u001b[1;32mIn[3], line 29\u001b[0m\n\u001b[0;32m     27\u001b[0m             \u001b[38;5;28;01mbreak\u001b[39;00m\n\u001b[0;32m     28\u001b[0m         \u001b[38;5;66;03m# wait for one second\u001b[39;00m\n\u001b[1;32m---> 29\u001b[0m time\u001b[38;5;241m.\u001b[39msleep(\u001b[38;5;241m1\u001b[39m)\n",
      "\u001b[1;31mKeyboardInterrupt\u001b[0m: "
     ]
    }
   ],
   "source": [
    "import socket\n",
    "import time\n",
    "\n",
    "HOST = '192.168.0.100'\n",
    "PORT = 65432\n",
    "\n",
    "counter = 0\n",
    "# set up the server socket\n",
    "with socket.socket(socket.AF_INET, socket.SOCK_STREAM) as s:\n",
    "    s.bind(('192.168.0.99', 65432)) # choose any port number you like\n",
    "    s.listen() # listen for one client connection\n",
    "\n",
    "    while counter < 1000:\n",
    "        conn, addr = s.accept()\n",
    "\n",
    "        with conn:\n",
    "            # print(f\"Connected by {addr}\")\n",
    "            while True:\n",
    "                # get the current date and time\n",
    "                data = conn.recv(1024)\n",
    "                if data:\n",
    "                    counter += 1\n",
    "                    print(f'{data.decode()}')\n",
    "                    message = b\"Message received\"\n",
    "                    # conn.sendall(message)\n",
    "                    # conn.close()\n",
    "                    break\n",
    "                # wait for one second\n",
    "        time.sleep(1)\n"
   ]
  },
  {
   "cell_type": "code",
   "execution_count": 6,
   "id": "61e9fe02",
   "metadata": {},
   "outputs": [
    {
     "ename": "OSError",
     "evalue": "[WinError 10049] The requested address is not valid in its context",
     "output_type": "error",
     "traceback": [
      "\u001b[1;31m---------------------------------------------------------------------------\u001b[0m",
      "\u001b[1;31mOSError\u001b[0m                                   Traceback (most recent call last)",
      "Cell \u001b[1;32mIn[6], line 12\u001b[0m\n\u001b[0;32m     10\u001b[0m \u001b[38;5;66;03m# set up the server socket\u001b[39;00m\n\u001b[0;32m     11\u001b[0m \u001b[38;5;28;01mwith\u001b[39;00m socket\u001b[38;5;241m.\u001b[39msocket(socket\u001b[38;5;241m.\u001b[39mAF_INET, socket\u001b[38;5;241m.\u001b[39mSOCK_STREAM) \u001b[38;5;28;01mas\u001b[39;00m s:\n\u001b[1;32m---> 12\u001b[0m     s\u001b[38;5;241m.\u001b[39mbind((\u001b[38;5;124m'\u001b[39m\u001b[38;5;124m192.168.0.99\u001b[39m\u001b[38;5;124m'\u001b[39m, \u001b[38;5;241m65432\u001b[39m)) \u001b[38;5;66;03m# choose any port number you like\u001b[39;00m\n\u001b[0;32m     13\u001b[0m     s\u001b[38;5;241m.\u001b[39mlisten() \u001b[38;5;66;03m# listen for one client connection\u001b[39;00m\n\u001b[0;32m     15\u001b[0m     \u001b[38;5;28;01mwhile\u001b[39;00m \u001b[38;5;28;01mTrue\u001b[39;00m:\n",
      "\u001b[1;31mOSError\u001b[0m: [WinError 10049] The requested address is not valid in its context"
     ]
    }
   ],
   "source": [
    "import socket\n",
    "import time\n",
    "import csv\n",
    "\n",
    "HOST = '192.168.0.100'\n",
    "PORT = 65432\n",
    "\n",
    "received_messages = []\n",
    "\n",
    "# set up the server socket\n",
    "with socket.socket(socket.AF_INET, socket.SOCK_STREAM) as s:\n",
    "    s.bind(('192.168.0.99', 65432)) # choose any port number you like\n",
    "    s.listen() # listen for one client connection\n",
    "\n",
    "    while True:\n",
    "        conn, addr = s.accept()\n",
    "\n",
    "        with conn:\n",
    "            while True:\n",
    "                data = conn.recv(1024)\n",
    "                if data:\n",
    "                    counter += 1\n",
    "                    print(f'{data.decode()}')\n",
    "                    received_messages.append(data.decode())\n",
    "\n",
    "                    # Save to CSV file\n",
    "                    with open('D:\\CI-DMS\\Arduino\\WiFi Network\\output\\output.csv', 'w', newline='') as csvfile:\n",
    "                        csv_writer = csv.writer(csvfile)\n",
    "                        csv_writer.writerow(['Received Messages'])\n",
    "                        csv_writer.writerows([[msg] for msg in received_messages])\n",
    "\n",
    "                    if data.decode() == terminate_signal:\n",
    "                        break\n",
    "                        \n",
    "                if data.decode() == terminate_signal:    \n",
    "                    break\n",
    "\n",
    "                time.sleep(1)"
   ]
  },
  {
   "cell_type": "code",
   "execution_count": 4,
   "id": "3f6a70b6",
   "metadata": {},
   "outputs": [
    {
     "ename": "OSError",
     "evalue": "[WinError 10049] The requested address is not valid in its context",
     "output_type": "error",
     "traceback": [
      "\u001b[1;31m---------------------------------------------------------------------------\u001b[0m",
      "\u001b[1;31mOSError\u001b[0m                                   Traceback (most recent call last)",
      "Cell \u001b[1;32mIn[4], line 14\u001b[0m\n\u001b[0;32m     12\u001b[0m \u001b[38;5;66;03m# set up the server socket\u001b[39;00m\n\u001b[0;32m     13\u001b[0m \u001b[38;5;28;01mwith\u001b[39;00m socket\u001b[38;5;241m.\u001b[39msocket(socket\u001b[38;5;241m.\u001b[39mAF_INET, socket\u001b[38;5;241m.\u001b[39mSOCK_STREAM) \u001b[38;5;28;01mas\u001b[39;00m s:\n\u001b[1;32m---> 14\u001b[0m     s\u001b[38;5;241m.\u001b[39mbind((\u001b[38;5;124m'\u001b[39m\u001b[38;5;124m192.168.0.99\u001b[39m\u001b[38;5;124m'\u001b[39m, \u001b[38;5;241m65432\u001b[39m)) \u001b[38;5;66;03m# choose any port number you like\u001b[39;00m\n\u001b[0;32m     15\u001b[0m     s\u001b[38;5;241m.\u001b[39mlisten() \u001b[38;5;66;03m# listen for one client connection\u001b[39;00m\n\u001b[0;32m     17\u001b[0m     \u001b[38;5;28;01mwhile\u001b[39;00m \u001b[38;5;28;01mTrue\u001b[39;00m:\n",
      "\u001b[1;31mOSError\u001b[0m: [WinError 10049] The requested address is not valid in its context"
     ]
    }
   ],
   "source": [
    "import socket\n",
    "import time\n",
    "import csv\n",
    "from datetime import datetime\n",
    "\n",
    "HOST = '192.168.0.100'\n",
    "PORT = 65432\n",
    "\n",
    "terminate_signal = \"exit\"\n",
    "received_messages = []\n",
    "\n",
    "# set up the server socket\n",
    "with socket.socket(socket.AF_INET, socket.SOCK_STREAM) as s:\n",
    "    s.bind(('192.168.0.99', 65432)) # choose any port number you like\n",
    "    s.listen() # listen for one client connection\n",
    "\n",
    "    while True:\n",
    "        conn, addr = s.accept()\n",
    "\n",
    "        with conn:\n",
    "            while True:\n",
    "                data = conn.recv(1024)\n",
    "                if not data:\n",
    "                    break\n",
    "                \n",
    "                timestamp = datetime.now().strftime('%Y-%m-%d %H:%M:%S:%MS')\n",
    "                message = data.decode()\n",
    "                print(f'{timestamp}: {message}')\n",
    "                received_messages.append((timestamp, message))\n",
    "\n",
    "                # Save to CSV file\n",
    "                with open('./data/output.csv', 'w', newline='') as csvfile:\n",
    "                    csv_writer = csv.writer(csvfile)\n",
    "                    csv_writer.writerow(['Timestamp', 'Received Message'])\n",
    "                    csv_writer.writerows(received_messages)\n",
    "\n",
    "                if data.decode() == terminate_signal:\n",
    "                    break\n",
    "\n",
    "            # If termination signal received, exit the outer loop\n",
    "            if data.decode() == terminate_signal:\n",
    "                break\n",
    "\n",
    "            time.sleep(1)\n"
   ]
  },
  {
   "cell_type": "code",
   "execution_count": 5,
   "id": "80131ffd",
   "metadata": {},
   "outputs": [
    {
     "ename": "OSError",
     "evalue": "[WinError 10049] The requested address is not valid in its context",
     "output_type": "error",
     "traceback": [
      "\u001b[1;31m---------------------------------------------------------------------------\u001b[0m",
      "\u001b[1;31mOSError\u001b[0m                                   Traceback (most recent call last)",
      "Cell \u001b[1;32mIn[5], line 18\u001b[0m\n\u001b[0;32m     16\u001b[0m \u001b[38;5;66;03m# set up the server socket\u001b[39;00m\n\u001b[0;32m     17\u001b[0m \u001b[38;5;28;01mwith\u001b[39;00m socket\u001b[38;5;241m.\u001b[39msocket(socket\u001b[38;5;241m.\u001b[39mAF_INET, socket\u001b[38;5;241m.\u001b[39mSOCK_STREAM) \u001b[38;5;28;01mas\u001b[39;00m s:\n\u001b[1;32m---> 18\u001b[0m     s\u001b[38;5;241m.\u001b[39mbind((\u001b[38;5;124m'\u001b[39m\u001b[38;5;124m192.168.0.99\u001b[39m\u001b[38;5;124m'\u001b[39m, \u001b[38;5;241m65432\u001b[39m)) \u001b[38;5;66;03m# choose any port number you like\u001b[39;00m\n\u001b[0;32m     19\u001b[0m     s\u001b[38;5;241m.\u001b[39mlisten() \u001b[38;5;66;03m# listen for one client connection\u001b[39;00m\n\u001b[0;32m     21\u001b[0m     \u001b[38;5;28;01mwhile\u001b[39;00m \u001b[38;5;28;01mTrue\u001b[39;00m:\n",
      "\u001b[1;31mOSError\u001b[0m: [WinError 10049] The requested address is not valid in its context"
     ]
    }
   ],
   "source": [
    "import socket\n",
    "import csv\n",
    "from datetime import datetime\n",
    "\n",
    "HOST = '192.168.0.100'\n",
    "PORT = 65432\n",
    "\n",
    "terminate_signal = \"exit\"\n",
    "received_messages = []\n",
    "\n",
    "# Open the CSV file for writing\n",
    "with open('D:\\CI-DMS\\Arduino\\WiFi Network\\output\\output.csv', 'w', newline='') as csvfile:\n",
    "    csv_writer = csv.writer(csvfile)\n",
    "    csv_writer.writerow(['Timestamp', 'Received Message'])\n",
    "\n",
    "    # set up the server socket\n",
    "    with socket.socket(socket.AF_INET, socket.SOCK_STREAM) as s:\n",
    "        s.bind(('192.168.0.99', 65432)) # choose any port number you like\n",
    "        s.listen() # listen for one client connection\n",
    "\n",
    "        while True:\n",
    "            conn, addr = s.accept()\n",
    "\n",
    "            with conn:\n",
    "                while True:\n",
    "                    data = conn.recv(1024)\n",
    "                    if not data:\n",
    "                        break\n",
    "\n",
    "                    timestamp = datetime.now().strftime('%Y-%m-%d %H:%M:%S.%f')\n",
    "                    message = data.decode()\n",
    "\n",
    "                    print(f'{timestamp}: {message}')\n",
    "                    received_messages.append((timestamp, message))\n",
    "\n",
    "                    # Append the new row to the CSV file\n",
    "                    csv_writer.writerow([timestamp, message])\n",
    "                    csvfile.flush()  # Force the write to disk\n",
    "\n",
    "                    if message == terminate_signal:\n",
    "                        break\n",
    "\n",
    "                # If termination signal received, exit the outer loop\n",
    "                if message == terminate_signal:\n",
    "                    break"
   ]
  },
  {
   "cell_type": "code",
   "execution_count": 2,
   "id": "8522d78f",
   "metadata": {},
   "outputs": [
    {
     "ename": "OSError",
     "evalue": "[WinError 10049] The requested address is not valid in its context",
     "output_type": "error",
     "traceback": [
      "\u001b[1;31m---------------------------------------------------------------------------\u001b[0m",
      "\u001b[1;31mOSError\u001b[0m                                   Traceback (most recent call last)",
      "Cell \u001b[1;32mIn[2], line 18\u001b[0m\n\u001b[0;32m     16\u001b[0m \u001b[38;5;66;03m# set up the server socket\u001b[39;00m\n\u001b[0;32m     17\u001b[0m \u001b[38;5;28;01mwith\u001b[39;00m socket\u001b[38;5;241m.\u001b[39msocket(socket\u001b[38;5;241m.\u001b[39mAF_INET, socket\u001b[38;5;241m.\u001b[39mSOCK_STREAM) \u001b[38;5;28;01mas\u001b[39;00m s:\n\u001b[1;32m---> 18\u001b[0m     s\u001b[38;5;241m.\u001b[39mbind((\u001b[38;5;124m'\u001b[39m\u001b[38;5;124m192.168.0.99\u001b[39m\u001b[38;5;124m'\u001b[39m, \u001b[38;5;241m65432\u001b[39m))  \u001b[38;5;66;03m# choose any port number you like (this is the ip adress and port of the arduino)\u001b[39;00m\n\u001b[0;32m     19\u001b[0m     s\u001b[38;5;241m.\u001b[39mlisten()  \u001b[38;5;66;03m# listen for one client connection\u001b[39;00m\n\u001b[0;32m     21\u001b[0m     \u001b[38;5;28;01mwhile\u001b[39;00m \u001b[38;5;28;01mTrue\u001b[39;00m:\n",
      "\u001b[1;31mOSError\u001b[0m: [WinError 10049] The requested address is not valid in its context"
     ]
    }
   ],
   "source": [
    "import socket\n",
    "import pandas as pd\n",
    "from datetime import datetime\n",
    "\n",
    "#this is the ip and port for the eye tracking computer\n",
    "HOST = '192.168.0.100'\n",
    "PORT = 65432\n",
    "\n",
    "terminate_signal = \"exit\"\n",
    "received_messages = []\n",
    "\n",
    "# Create a DataFrame to store the data\n",
    "columns = ['Timestamp', 'Received Message']\n",
    "df = pd.DataFrame(columns=columns) #the number of columns is equal to the number of columns we assigned above\n",
    "\n",
    "# set up the server socket\n",
    "with socket.socket(socket.AF_INET, socket.SOCK_STREAM) as s:\n",
    "    s.bind(('192.168.0.99', 65432))  # choose any port number you like (this is the ip adress and port of the arduino)\n",
    "    s.listen()  # listen for one client connection\n",
    "\n",
    "    while True:\n",
    "        conn, addr = s.accept() #while the connection is active, accept incoming data\n",
    "\n",
    "        with conn:\n",
    "            while True:\n",
    "                data = conn.recv(1024)\n",
    "                if not data:\n",
    "                    break\n",
    "\n",
    "                timestamp = datetime.now().strftime('%Y-%m-%d %H:%M:%S.%f') #this gives us the date and time down to ms\n",
    "                message = data.decode()\n",
    "                \n",
    "                # Make the timestamp and message variables into series type\n",
    "                timestamp_series = pd.Series([timestamp])\n",
    "                message_series = pd.Series([message])\n",
    "\n",
    "                #Print the current timestamp and message to the output\n",
    "                print(f'{timestamp}: {message}')\n",
    "                received_messages.append((timestamp, message))\n",
    "\n",
    "                # Append the new row to the DataFrame\n",
    "                df = pd.concat([timestamp_series, message_series], axis=1, ignore_index=True)\n",
    "\n",
    "                # Save the DataFrame to CSV\n",
    "                df.to_csv('.\\output\\output.csv', index=False)\n",
    "\n",
    "                if message == terminate_signal:\n",
    "                    break\n",
    "\n",
    "            # If termination signal received, exit the outer loop\n",
    "            if message == terminate_signal:\n",
    "                break\n"
   ]
  },
  {
   "cell_type": "code",
   "execution_count": null,
   "id": "a1773f96",
   "metadata": {},
   "outputs": [],
   "source": []
  }
 ],
 "metadata": {
  "kernelspec": {
   "display_name": "Python 3 (ipykernel)",
   "language": "python",
   "name": "python3"
  },
  "language_info": {
   "codemirror_mode": {
    "name": "ipython",
    "version": 3
   },
   "file_extension": ".py",
   "mimetype": "text/x-python",
   "name": "python",
   "nbconvert_exporter": "python",
   "pygments_lexer": "ipython3",
   "version": "3.11.4"
  },
  "toc": {
   "base_numbering": 1,
   "nav_menu": {},
   "number_sections": true,
   "sideBar": true,
   "skip_h1_title": false,
   "title_cell": "Table of Contents",
   "title_sidebar": "Contents",
   "toc_cell": false,
   "toc_position": {},
   "toc_section_display": true,
   "toc_window_display": false
  }
 },
 "nbformat": 4,
 "nbformat_minor": 5
}
